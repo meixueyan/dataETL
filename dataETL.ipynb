{
  "nbformat": 4,
  "nbformat_minor": 0,
  "metadata": {
    "colab": {
      "name": "Untitled5.ipynb",
      "provenance": [],
      "collapsed_sections": []
    },
    "kernelspec": {
      "name": "python3",
      "display_name": "Python 3"
    }
  },
  "cells": [
    {
      "cell_type": "code",
      "metadata": {
        "id": "3yZdIuDBY_ZE",
        "colab_type": "code",
        "colab": {}
      },
      "source": [
        "# !pip install newsapi-python\n",
        "import requests\n",
        "from io import StringIO\n",
        "import json\n",
        "import pandas as pd\n",
        "import time"
      ],
      "execution_count": 0,
      "outputs": []
    },
    {
      "cell_type": "code",
      "metadata": {
        "id": "h2zPLtMrIjfs",
        "colab_type": "code",
        "colab": {}
      },
      "source": [
        "# newsapi.get_top_headlines(sources='TechCrunch')"
      ],
      "execution_count": 0,
      "outputs": []
    },
    {
      "cell_type": "code",
      "metadata": {
        "id": "8FANIvamaCpp",
        "colab_type": "code",
        "colab": {}
      },
      "source": [
        "data = json.dumps(newsapi.get_top_headlines(sources='the-wall-street-journal'))"
      ],
      "execution_count": 0,
      "outputs": []
    },
    {
      "cell_type": "code",
      "metadata": {
        "id": "tMOrJ2HuB4GI",
        "colab_type": "code",
        "colab": {}
      },
      "source": [
        "df = pd.read_json(data, orient=\"index\")"
      ],
      "execution_count": 0,
      "outputs": []
    },
    {
      "cell_type": "code",
      "metadata": {
        "id": "GEEAMgc6D2U8",
        "colab_type": "code",
        "outputId": "c151962b-7b7e-475f-c00f-bf8698ab975f",
        "colab": {
          "base_uri": "https://localhost:8080/",
          "height": 142
        }
      },
      "source": [
        "df.head(10)"
      ],
      "execution_count": 0,
      "outputs": [
        {
          "output_type": "execute_result",
          "data": {
            "text/html": [
              "<div>\n",
              "<style scoped>\n",
              "    .dataframe tbody tr th:only-of-type {\n",
              "        vertical-align: middle;\n",
              "    }\n",
              "\n",
              "    .dataframe tbody tr th {\n",
              "        vertical-align: top;\n",
              "    }\n",
              "\n",
              "    .dataframe thead th {\n",
              "        text-align: right;\n",
              "    }\n",
              "</style>\n",
              "<table border=\"1\" class=\"dataframe\">\n",
              "  <thead>\n",
              "    <tr style=\"text-align: right;\">\n",
              "      <th></th>\n",
              "      <th>0</th>\n",
              "    </tr>\n",
              "  </thead>\n",
              "  <tbody>\n",
              "    <tr>\n",
              "      <th>articles</th>\n",
              "      <td>[{'source': {'id': 'the-wall-street-journal', ...</td>\n",
              "    </tr>\n",
              "    <tr>\n",
              "      <th>status</th>\n",
              "      <td>ok</td>\n",
              "    </tr>\n",
              "    <tr>\n",
              "      <th>totalResults</th>\n",
              "      <td>10</td>\n",
              "    </tr>\n",
              "  </tbody>\n",
              "</table>\n",
              "</div>"
            ],
            "text/plain": [
              "                                                              0\n",
              "articles      [{'source': {'id': 'the-wall-street-journal', ...\n",
              "status                                                       ok\n",
              "totalResults                                                 10"
            ]
          },
          "metadata": {
            "tags": []
          },
          "execution_count": 47
        }
      ]
    },
    {
      "cell_type": "code",
      "metadata": {
        "id": "ubB1-onzawUn",
        "colab_type": "code",
        "outputId": "ea95ae37-4b49-48f4-c85b-c050671d784a",
        "colab": {
          "base_uri": "https://localhost:8080/",
          "height": 34
        }
      },
      "source": [
        "from datetime import datetime\n",
        "print(datetime.now())"
      ],
      "execution_count": 0,
      "outputs": [
        {
          "output_type": "stream",
          "text": [
            "2020-03-21 11:25:34.400793\n"
          ],
          "name": "stdout"
        }
      ]
    },
    {
      "cell_type": "code",
      "metadata": {
        "id": "IrfEbXPN_TnF",
        "colab_type": "code",
        "outputId": "48cac06c-2d83-46b0-bf77-31235cf02765",
        "colab": {
          "base_uri": "https://localhost:8080/",
          "height": 249
        }
      },
      "source": [
        "try:\n",
        "  raise NameError('HiThere')\n",
        "except NameError:\n",
        "  print('An exception flew by!')\n",
        "  raise"
      ],
      "execution_count": 0,
      "outputs": [
        {
          "output_type": "stream",
          "text": [
            "An exception flew by!\n"
          ],
          "name": "stdout"
        },
        {
          "output_type": "error",
          "ename": "NameError",
          "evalue": "ignored",
          "traceback": [
            "\u001b[0;31m---------------------------------------------------------------------------\u001b[0m",
            "\u001b[0;31mNameError\u001b[0m                                 Traceback (most recent call last)",
            "\u001b[0;32m<ipython-input-38-b1b774ebc411>\u001b[0m in \u001b[0;36m<module>\u001b[0;34m()\u001b[0m\n\u001b[1;32m      1\u001b[0m \u001b[0;32mtry\u001b[0m\u001b[0;34m:\u001b[0m\u001b[0;34m\u001b[0m\u001b[0;34m\u001b[0m\u001b[0m\n\u001b[0;32m----> 2\u001b[0;31m   \u001b[0;32mraise\u001b[0m \u001b[0mNameError\u001b[0m\u001b[0;34m(\u001b[0m\u001b[0;34m'HiThere'\u001b[0m\u001b[0;34m)\u001b[0m\u001b[0;34m\u001b[0m\u001b[0;34m\u001b[0m\u001b[0m\n\u001b[0m\u001b[1;32m      3\u001b[0m \u001b[0;32mexcept\u001b[0m \u001b[0mNameError\u001b[0m\u001b[0;34m:\u001b[0m\u001b[0;34m\u001b[0m\u001b[0;34m\u001b[0m\u001b[0m\n\u001b[1;32m      4\u001b[0m   \u001b[0mprint\u001b[0m\u001b[0;34m(\u001b[0m\u001b[0;34m'An exception flew by!'\u001b[0m\u001b[0;34m)\u001b[0m\u001b[0;34m\u001b[0m\u001b[0;34m\u001b[0m\u001b[0m\n\u001b[1;32m      5\u001b[0m   \u001b[0;32mraise\u001b[0m\u001b[0;34m\u001b[0m\u001b[0;34m\u001b[0m\u001b[0m\n",
            "\u001b[0;31mNameError\u001b[0m: HiThere"
          ]
        }
      ]
    },
    {
      "cell_type": "code",
      "metadata": {
        "id": "xv8lkRqxGyR6",
        "colab_type": "code",
        "colab": {}
      },
      "source": [
        "from flask import Flask\n",
        "\n",
        "app = Flask(__name__)\n",
        "\n",
        "@app.route('/')\n",
        "def hello_world():\n",
        "    \"\"\"Print 'Hello, world!' as the response body.\"\"\"\n",
        "    return 'Hello, world!'"
      ],
      "execution_count": 0,
      "outputs": []
    },
    {
      "cell_type": "markdown",
      "metadata": {
        "id": "x3mssu3nCwyr",
        "colab_type": "text"
      },
      "source": [
        "## Google Trends"
      ]
    },
    {
      "cell_type": "code",
      "metadata": {
        "id": "dLNqRKxJSClO",
        "colab_type": "code",
        "colab": {}
      },
      "source": [
        "import requests\n",
        "from io import StringIO\n",
        "import json\n",
        "import pandas as pd\n",
        "import time\n",
        "\n",
        "def google_trends(keyword):\n",
        "    google_explore_api_url = 'https://trends.google.com/trends/api/explore'\n",
        "    google_explore_url = 'https://trends.google.com/trends/explore'\n",
        "    sess_headers = {'user-agent':'Mozilla/5.0 (Macintosh; Intel Mac OS X 10_15_0) AppleWebKit/537.36 (KHTML, like Gecko) Chrome/77.0.3865.120 Safari/537.36'}\n",
        "    sess = requests.Session()\n",
        "    params = {\n",
        "        'q': keyword,\n",
        "        'geo': 'US'\n",
        "    }\n",
        "    sess.get(google_explore_url,params=params,headers=sess_headers)\n",
        "    params = {\n",
        "        'hl': 'en-US',\n",
        "        'tz': '-60',\n",
        "        'req': '{\"comparisonItem\":[{\"keyword\":\"%s\",\"geo\":\"US\",\"time\":\"today 12-m\"}],\"category\":0,\"property\":\"\"}'%keyword,\n",
        "        'tz': '-60',\n",
        "    }\n",
        "    r = sess.get(google_explore_api_url,params=params,headers=sess_headers)\n",
        "    token = json.loads(r.text.split(')]}\\'\\n')[-1])['widgets'][0]['token']\n",
        "    print(token)\n",
        "\n",
        "    # passed one year\n",
        "    s2=time.strftime('%Y-%m-%d')\n",
        "    print(s2)\n",
        "    year_bit = int(s2[:4])\n",
        "    s1 = str(year_bit-1)+s2[4:]\n",
        "    print(s1)\n",
        "\n",
        "    google_explore_csv_url = 'https://trends.google.com/trends/api/widgetdata/multiline/csv'\n",
        "    params = {\n",
        "        'req': '{\"time\":\"%s %s\",\"resolution\":\"WEEK\",\"locale\":\"en-US\",\"comparisonItem\":[{\"geo\":{\"country\":\"US\"},\"complexKeywordsRestriction\":{\"keyword\":[{\"type\":\"BROAD\",\"value\":\"%s\"}]}}],\"requestOptions\":{\"property\":\"\",\"backend\":\"IZG\",\"category\":0}}'%(s1,s2,keyword),\n",
        "        'token':token,\n",
        "        'tz': -60\n",
        "    }\n",
        "    r = sess.get(google_explore_csv_url,params=params,headers=sess_headers)\n",
        "\n",
        "    data = StringIO(r.text)\n",
        "    df = pd.read_csv(data)\n",
        "    return df\n",
        "\n"
      ],
      "execution_count": 0,
      "outputs": []
    },
    {
      "cell_type": "code",
      "metadata": {
        "id": "vLRWaEj1_YJN",
        "colab_type": "code",
        "outputId": "dae4be9d-06e6-4b47-ef68-af452be0b146",
        "colab": {
          "base_uri": "https://localhost:8080/",
          "height": 255
        }
      },
      "source": [
        "df = google_trends(\"Fed\")\n",
        "df = df[1:]\n",
        "\n",
        "df.head()"
      ],
      "execution_count": 0,
      "outputs": [
        {
          "output_type": "stream",
          "text": [
            "APP6_UEAAAAAXnimR-QrspZll7GrMETuVWIBeqSjBz6X\n",
            "2020-03-22\n",
            "2019-03-22\n"
          ],
          "name": "stdout"
        },
        {
          "output_type": "execute_result",
          "data": {
            "text/html": [
              "<div>\n",
              "<style scoped>\n",
              "    .dataframe tbody tr th:only-of-type {\n",
              "        vertical-align: middle;\n",
              "    }\n",
              "\n",
              "    .dataframe tbody tr th {\n",
              "        vertical-align: top;\n",
              "    }\n",
              "\n",
              "    .dataframe thead th {\n",
              "        text-align: right;\n",
              "    }\n",
              "</style>\n",
              "<table border=\"1\" class=\"dataframe\">\n",
              "  <thead>\n",
              "    <tr style=\"text-align: right;\">\n",
              "      <th></th>\n",
              "      <th>Category: All categories</th>\n",
              "    </tr>\n",
              "  </thead>\n",
              "  <tbody>\n",
              "    <tr>\n",
              "      <th>2019-03-24</th>\n",
              "      <td>41</td>\n",
              "    </tr>\n",
              "    <tr>\n",
              "      <th>2019-03-31</th>\n",
              "      <td>41</td>\n",
              "    </tr>\n",
              "    <tr>\n",
              "      <th>2019-04-07</th>\n",
              "      <td>42</td>\n",
              "    </tr>\n",
              "    <tr>\n",
              "      <th>2019-04-14</th>\n",
              "      <td>41</td>\n",
              "    </tr>\n",
              "    <tr>\n",
              "      <th>2019-04-21</th>\n",
              "      <td>42</td>\n",
              "    </tr>\n",
              "  </tbody>\n",
              "</table>\n",
              "</div>"
            ],
            "text/plain": [
              "           Category: All categories\n",
              "2019-03-24                       41\n",
              "2019-03-31                       41\n",
              "2019-04-07                       42\n",
              "2019-04-14                       41\n",
              "2019-04-21                       42"
            ]
          },
          "metadata": {
            "tags": []
          },
          "execution_count": 13
        }
      ]
    },
    {
      "cell_type": "code",
      "metadata": {
        "id": "Bv9vYLfaiqbU",
        "colab_type": "code",
        "outputId": "4371a9bb-1022-41c7-cec9-973ca48e6af5",
        "colab": {
          "base_uri": "https://localhost:8080/",
          "height": 271
        }
      },
      "source": [
        "import matplotlib.pyplot as plt\n",
        "import matplotlib.dates as mdates\n",
        "import numpy as np\n",
        "import datetime as dt\n",
        "\n",
        "np.random.seed(1)\n",
        "\n",
        "N = 100\n",
        "y = np.random.rand(N)\n",
        "\n",
        "now = dt.datetime.now()\n",
        "then = now + dt.timedelta(days=52)\n",
        "days = mdates.drange(now,then,dt.timedelta(days=1))\n",
        "\n",
        "plt.gca().xaxis.set_major_formatter(mdates.DateFormatter('%Y-%m-%d'))\n",
        "plt.gca().xaxis.set_major_locator(mdates.DayLocator(interval=5))\n",
        "plt.plot(days,df['Category: All categories'])\n",
        "plt.gcf().autofmt_xdate()\n",
        "plt.show()"
      ],
      "execution_count": 0,
      "outputs": [
        {
          "output_type": "display_data",
          "data": {
            "image/png": "[encoded data removed]",
            "text/plain": [
              "<Figure size 432x288 with 1 Axes>"
            ]
          },
          "metadata": {
            "tags": []
          }
        }
      ]
    },
    {
      "cell_type": "code",
      "metadata": {
        "id": "o7HtKdi5Kyrf",
        "colab_type": "code",
        "outputId": "f827b712-7e4d-4d94-c65e-5a6121f6b54a",
        "colab": {
          "base_uri": "https://localhost:8080/",
          "height": 269
        }
      },
      "source": [
        "import matplotlib.pyplot as plt\n",
        "import matplotlib.dates as mdates\n",
        "import numpy as np\n",
        "import datetime as dt\n",
        "\n",
        "x_values = df.index\n",
        "y_values = df['Category: All categories']\n",
        "\n",
        "ax = plt.gca()\n",
        "formatter = mdates.DateFormatter(\"%Y-%m-%d\")\n",
        "\n",
        "ax.xaxis.set_major_formatter(formatter)\n",
        "\n",
        "locator = mdates.DayLocator()\n",
        "\n",
        "\n",
        "ax.xaxis.set_major_locator(locator)\n",
        "\n",
        "plt.plot(x_values, y_values)"
      ],
      "execution_count": 0,
      "outputs": [
        {
          "output_type": "execute_result",
          "data": {
            "text/plain": [
              "[<matplotlib.lines.Line2D at 0x7f0327bf30f0>]"
            ]
          },
          "metadata": {
            "tags": []
          },
          "execution_count": 117
        },
        {
          "output_type": "display_data",
          "data": {
            "image/png": "[encoded data removed]",
            "text/plain": [
              "<Figure size 432x288 with 1 Axes>"
            ]
          },
          "metadata": {
            "tags": []
          }
        }
      ]
    },
    {
      "cell_type": "code",
      "metadata": {
        "id": "CcVVsVPKlEp6",
        "colab_type": "code",
        "outputId": "f0615096-56ce-444a-c41f-bf217978efea",
        "colab": {
          "base_uri": "https://localhost:8080/",
          "height": 204
        }
      },
      "source": [
        "df.head()"
      ],
      "execution_count": 0,
      "outputs": [
        {
          "output_type": "execute_result",
          "data": {
            "text/html": [
              "<div>\n",
              "<style scoped>\n",
              "    .dataframe tbody tr th:only-of-type {\n",
              "        vertical-align: middle;\n",
              "    }\n",
              "\n",
              "    .dataframe tbody tr th {\n",
              "        vertical-align: top;\n",
              "    }\n",
              "\n",
              "    .dataframe thead th {\n",
              "        text-align: right;\n",
              "    }\n",
              "</style>\n",
              "<table border=\"1\" class=\"dataframe\">\n",
              "  <thead>\n",
              "    <tr style=\"text-align: right;\">\n",
              "      <th></th>\n",
              "      <th>time</th>\n",
              "      <th>value</th>\n",
              "    </tr>\n",
              "  </thead>\n",
              "  <tbody>\n",
              "    <tr>\n",
              "      <th>0</th>\n",
              "      <td>0</td>\n",
              "      <td>0.848814</td>\n",
              "    </tr>\n",
              "    <tr>\n",
              "      <th>1</th>\n",
              "      <td>1</td>\n",
              "      <td>2.288891</td>\n",
              "    </tr>\n",
              "    <tr>\n",
              "      <th>2</th>\n",
              "      <td>2</td>\n",
              "      <td>3.360443</td>\n",
              "    </tr>\n",
              "    <tr>\n",
              "      <th>3</th>\n",
              "      <td>3</td>\n",
              "      <td>3.508284</td>\n",
              "    </tr>\n",
              "    <tr>\n",
              "      <th>4</th>\n",
              "      <td>4</td>\n",
              "      <td>3.670384</td>\n",
              "    </tr>\n",
              "  </tbody>\n",
              "</table>\n",
              "</div>"
            ],
            "text/plain": [
              "   time     value\n",
              "0  0     0.848814\n",
              "1  1     2.288891\n",
              "2  2     3.360443\n",
              "3  3     3.508284\n",
              "4  4     3.670384"
            ]
          },
          "metadata": {
            "tags": []
          },
          "execution_count": 40
        }
      ]
    },
    {
      "cell_type": "markdown",
      "metadata": {
        "id": "Q4uLafLIQ31V",
        "colab_type": "text"
      },
      "source": [
        "## News API"
      ]
    },
    {
      "cell_type": "code",
      "metadata": {
        "id": "GEhlRBjtQ9PH",
        "colab_type": "code",
        "colab": {
          "base_uri": "https://localhost:8080/",
          "height": 54
        },
        "outputId": "fabc5150-fe62-4d2a-c72b-c7099206603c"
      },
      "source": [
        "import requests\n",
        "url = ('http://newsapi.org/v2/top-headlines?'\n",
        "       'country=us&'\n",
        "       'source=TechCruch&'\n",
        "       'apiKey=7417491a101e4ec3a8219b263f028ff7')\n",
        "response = requests.get(url)\n",
        "print(response.json())"
      ],
      "execution_count": 9,
      "outputs": [
        {
          "output_type": "stream",
          "text": [
            "{'status': 'ok', 'totalResults': 38, 'articles': [{'source': {'id': 'reuters', 'name': 'Reuters'}, 'author': 'Raphael Satter', 'title': 'Exclusive: Elite hackers target WHO as coronavirus cyberattacks spike - Reuters', 'description': 'Elite hackers tried to break into the World Health Organization earlier this month, sources told Reuters, part of what a senior agency official said was a more than two-fold increase in cyberattacks.', 'url': 'https://www.reuters.com/article/us-health-coronavirus-who-hack-exclusive-idUSKBN21A3BN', 'urlToImage': 'https://s3.reutersmedia.net/resources/r/?m=02&d=20200323&t=2&i=1507194536&w=1200&r=LYNXMPEG2M1VK', 'publishedAt': '2020-03-23T22:42:09Z', 'content': 'WASHINGTON/LONDON (Reuters) - Elite hackers tried to break into the World Health Organization earlier this month, sources told Reuters, part of what a senior agency official said was a more than two-fold increase in cyberattacks. \\r\\nWHO Chief Information Secur… [+3753 chars]'}, {'source': {'id': 'associated-press', 'name': 'Associated Press'}, 'author': 'Marilynn Marchione', 'title': \"Malaria drugs' promise for coronavirus spurs hope, shortages - The Associated Press\", 'description': 'Excitement about treating the new coronavirus with malaria drugs is raising hopes, including with President Donald Trump. But the evidence that they may help is thin, and a run on the drugs is...', 'url': 'https://apnews.com/2f3dd1099c6054bb5015391b9a6f3b0c', 'urlToImage': 'https://storage.googleapis.com/afs-prod/media/036b025d22e843418563a0beb7b22a35/3000.jpeg', 'publishedAt': '2020-03-23T22:38:49Z', 'content': 'Excitement about treating the new coronavirus with malaria drugs is raising hopes, including with President Donald Trump. But the evidence that they may help is thin, and a run on the drugs is complicating access for people who need them for rheumatoid arthri… [+7031 chars]'}, {'source': {'id': 'usa-today', 'name': 'USA Today'}, 'author': 'Ledyard King, Nicholas Wu, Deirdre Shesgreen, Maureen Groppe, Courtney Subramanian', 'title': \"Trump says he's weighing new coronavirus protocols to let local economies 'cautiously resume' - updates - USA TODAY\", 'description': 'The Senate is at odds on the coronavirus emergency stimulus, with Democrats pushing for more restrictions on corporate bailouts. Talks are ongoing.', 'url': 'https://www.usatoday.com/story/news/politics/2020/03/23/coronavirus-congress-tries-break-stalemate-emergency-package/2897083001/', 'urlToImage': 'https://www.gannett-cdn.com/presto/2020/03/23/USAT/07ca423e-bb22-4519-86cf-26fee70fc2fb-Trump_stalemate.JPG?crop=4392,2471,x0,y223&width=3200&height=1680&fit=bounds', 'publishedAt': '2020-03-23T22:30:00Z', 'content': 'Washington \\xa0Dr. Deborah Birx, a member of the White House coronavirus task force, said the U.S. is learning from China and South Korea.\\r\\n\"The two areas that have moved through their curve is China and South Korea. So those are the two countries that were lear… [+36462 chars]'}, {'source': {'id': 'cnn', 'name': 'CNN'}, 'author': 'Caroline Kelly, CNN', 'title': \"Democratic senator says he broke with party on coronavirus bill because 'the clock is ticking' - CNN\", 'description': \"Sen. Doug Jones of Alabama said that he voted to advance Senate Republicans' controversial coronavirus package -- the lone Democrat to do so -- to highlight that progress is being made on the bill and time to act is running out.\", 'url': 'https://www.cnn.com/2020/03/23/politics/doug-jones-senate-vote-coronavirus-package-cnntv/index.html', 'urlToImage': 'https://cdn.cnn.com/cnnnext/dam/assets/200205114438-senator-doug-jones-convict-trump-vote-2-super-tease.jpg', 'publishedAt': '2020-03-23T22:12:58Z', 'content': \"(CNN)Sen. Doug Jones of Alabama said that he voted to advance Senate Republicans' controversial coronavirus package -- the lone Democrat to do so -- to highlight that progress is being made on the bill and time to act is running out.\\r\\nWhen asked by CNN's Jake… [+2739 chars]\"}, {'source': {'id': 'cnn', 'name': 'CNN'}, 'author': 'Rob Picheta, CNN', 'title': 'Boris Johnson issues stay-at-home order, sending UK into lockdown to fight coronavirus pandemic - CNN', 'description': 'The UK is banning people from leaving their homes apart from for a few \"very limited\" reasons, Prime Minister Boris Johnson announced on Monday, as he imposed the most stringent restrictions seen in Britain since the end of World War II.', 'url': 'https://www.cnn.com/2020/03/23/uk/uk-coronavirus-lockdown-gbr-intl/index.html', 'urlToImage': 'https://cdn.cnn.com/cnnnext/dam/assets/200323164412-boris-johnson-uk-lockdown-0323-restricted-super-tease.jpg', 'publishedAt': '2020-03-23T22:04:04Z', 'content': 'London (CNN)The UK is banning people from leaving their homes apart from for a few \"very limited\" reasons, Prime Minister Boris Johnson announced on Monday, as he imposed the most stringent restrictions seen in Britain since the end of World War II.\\r\\nPolice w… [+2824 chars]'}, {'source': {'id': 'the-wall-street-journal', 'name': 'The Wall Street Journal'}, 'author': 'Jennifer Calfas, Stephanie Armour, Isabel Coles', 'title': 'Countries Roll Out Restrictions to Curb Coronavirus - The Wall Street Journal', 'description': 'As confirmed virus cases surge past 41,500 in U.S., more states impose stay-at-home orders; U.K., South Africa announce lockdowns', 'url': 'https://www.wsj.com/articles/countries-roll-out-restrictions-to-curb-coronavirus-11584954209', 'urlToImage': 'https://images.wsj.net/im-167922/social', 'publishedAt': '2020-03-23T21:30:48Z', 'content': 'A growing number of U.S. states urged residents to stay home Monday as cases of the novel coronavirus surged past 40,000 in the country and more governments around the world announced nationwide lockdowns.\\r\\nThe flurry of stay-at-home orders and advisories fro… [+274 chars]'}, {'source': {'id': 'engadget', 'name': 'Engadget'}, 'author': 'Christine Fisher', 'title': 'Microsoft warns Windows users of two security holes already under attack - Engadget', 'description': 'Today, Microsoft warned billions of Windows users that hackers are actively exploiting two critical zero-day vulnerabilities that could allow bad actors to take complete control of targeted computers. According to a security advisory, the vulnerabilities are …', 'url': 'https://www.engadget.com/2020-03-23-microsoft-windows-vulnerability-adobe-type-manager.html', 'urlToImage': 'https://o.aolcdn.com/images/dims?resize=1200%2C630&crop=1200%2C630%2C0%2C0&quality=80&image_uri=https%3A%2F%2Fs.yimg.com%2Fuu%2Fapi%2Fres%2F1.2%2FL81zFhtBaf2xnJWrXF1APQ--%7EB%2Fdz0xNjAwO2g9MTAwMDthcHBpZD15dGFjaHlvbg--%2Fhttps%3A%2F%2Fo.aolcdn.com%2Fimages%2Fdims%3Fcrop%3D3000%252C1875%252C0%252C146%26quality%3D85%26format%3Djpg%26resize%3D1600%252C1000%26image_uri%3Dhttps%3A%2F%2Fs.yimg.com%2Fos%2Fcreatr-images%2F2020-03%2Fc34a7f90-6d42-11ea-837f-547f8caf3642%26client%3Da1acac3e1b3290917d92%26signature%3D422a1765013ba65f8a33836755aa03546783bb0e&client=amp-blogside-v2&signature=d6cff087a69c5f77c2d302741d7c5405525e9cf0', 'publishedAt': '2020-03-23T21:26:06Z', 'content': 'The flaws exist in the Windows Adobe Type Manager Library, which allows apps to manage and render fonts available from Adobe Systems. Attackers may exploit the vulnerabilities by getting their targets to open booby-trapped documents or view them in the Window… [+404 chars]'}, {'source': {'id': 'cnbc', 'name': 'CNBC'}, 'author': 'Annie Nova', 'title': 'Democrats propose forgiving $30,000 in student debt for borrowers during coronavirus outbreak - CNBC', 'description': 'Democrats unveiled a plan on Monday to forgive $30,000 in student debt for borrowers amid the coronavirus outbreak. Proposals like this one are mounting.', 'url': 'https://www.cnbc.com/2020/03/23/democrats-want-to-forgive-30000-in-student-debt-amid-covid-19.html', 'urlToImage': 'https://image.cnbcfm.com/api/v1/image/106034865-1563896762622rtx70pb7.jpg?v=1563896827', 'publishedAt': '2020-03-23T21:05:41Z', 'content': 'Democratic Reps. Ilhan Omar of Minnesota and Ayanna Pressley of Massachusetts introduced legislation on Monday that would suspend student loan payments and forgive $30,000 in debt for borrowers during the coronavirus outbreak.\\xa0\\r\\nThe bill, called the\\xa0Student D… [+2347 chars]'}, {'source': {'id': None, 'name': 'Youtube.com'}, 'author': None, 'title': \"Let's Play Half-Life: Alyx - GameSpot\", 'description': \"Half-Life: Alyx is finally here! Today, Jean-Luc hops into virtual reality and tries out Valve's newest Half-Life game with the help of Michael. Come check o...\", 'url': 'https://www.youtube.com/watch?v=Bk1VGEGI9q8', 'urlToImage': 'https://i.ytimg.com/vi/Bk1VGEGI9q8/maxresdefault_live.jpg', 'publishedAt': '2020-03-23T21:05:23Z', 'content': \"Half-Life: Alyx is finally here! Today, Jean-Luc hops into virtual reality and tries out Valve's newest Half-Life game with the help of Michael. Come check out the opening levels of this VR shooter.\"}, {'source': {'id': None, 'name': 'Slate.com'}, 'author': 'Cornelia Channing', 'title': 'Woody Allen’s Memoir Finds New Publisher Who Hails Him as “Respected Artist” - Slate', 'description': 'A postscript added to Apropos of Nothing mocks Hachette Book Group for not publishing it.', 'url': 'https://slate.com/culture/2020/03/woody-allen-memoir-dylan-farrow-new-publisher.html', 'urlToImage': 'https://compote.slate.com/images/8ebe1a3b-8ed3-4100-9b7c-ab9bcea7ec02.jpeg?width=780&height=520&rect=2788x1859&offset=0x0', 'publishedAt': '2020-03-23T20:57:45Z', 'content': 'Woody Allen in San Sebastian in July.\\r\\n<ol><li>\\r\\nAll the Best Events Livestreaming for Free This Week Because of the Coronavirus\\r\\n </li><li>\\r\\nThe Dystopian Japanese Novel That Anticipates Everyday Life Under Coronavirus\\r\\n </li><li>\\r\\nAmazon Is Putting Book Del… [+2953 chars]'}, {'source': {'id': 'fox-news', 'name': 'Fox News'}, 'author': 'Michael Hollan', 'title': \"Carnival CEO responds to global pandemic: 'Cruise ships are not a source for coronavirus' - Fox News\", 'description': 'The Carnival CEO says the company did put passengers in danger amidst the coronavirus outbreak.', 'url': 'https://www.foxnews.com/travel/carnival-ceo-coronavirus-cruise-ships', 'urlToImage': 'https://static.foxnews.com/foxnews.com/content/uploads/2019/07/Carnival-Victory.jpg', 'publishedAt': '2020-03-23T20:45:51Z', 'content': 'Get all the latest news on coronavirus and more delivered daily to your inbox.\\xa0\\xa0Sign up here.\\r\\nThe CEO of Carnival Corporation says the company did not put passengers in danger amidst the coronavirus outbreak.\\r\\nDuring the early days of the worldwide outbreak,… [+1847 chars]'}, {'source': {'id': 'cbs-news', 'name': 'CBS News'}, 'author': 'Nicole Brown', 'title': 'Remember \"bigger purpose\" while social distancing during coronavirus pandemic, former astronaut Peggy Whitson says - CBS News', 'description': 'By social distancing and quarantining, people are \"saving lives,\" retired NASA astronaut Peggy Whitson said.', 'url': 'https://www.cbsnews.com/news/coronavirus-social-distancing-advice-astronaut-peggy-whitson/', 'urlToImage': 'https://cbsnews1.cbsistatic.com/hub/i/r/2020/03/23/2dbad641-62b1-45ed-8810-96e1990a5dfd/thumbnail/1200x630/cf1ae847239c8ef0a3a26e9c802c8a21/0323-peggy-ctm-460365-640x360.jpg', 'publishedAt': '2020-03-23T20:17:50Z', 'content': 'Retired NASA astronaut Peggy Whitson, who spent 665 days on the International Space Station, advised people feeling isolated while staying home during the coronavirus pandemic to remember the \"bigger purpose\" everyone shares. By social distancing and quaranti… [+1481 chars]'}, {'source': {'id': None, 'name': 'Investors.com'}, 'author': \"Investor's Business Daily\", 'title': \"Dow Jones Dives Again As Coronavirus Stock Market Crash Accelerates; Amazon, Netflix Buoy Nasdaq - Investor's Business Daily\", 'description': 'The Dow Jones was firmly lower in afternoon trading after a massive coronavirus stimulus package hit another roadblock in the Senate.', 'url': 'https://www.investors.com/market-trend/stock-market-today/dow-jones-dives-again-coronavirus-stock-market-crash-accelerates/', 'urlToImage': 'https://www.investors.com/wp-content/uploads/2018/12/Stock-DowntrendBoard-01-shut.jpg', 'publishedAt': '2020-03-23T20:10:00Z', 'content': 'The Dow Jones Industrial Average was down sharply in afternoon trading Monday as the coronavirus stock market crash brought more sellers into the stock market today. Futures indicated a bullish open after the Federal Reserve pledged unlimited asset purchases,… [+2908 chars]'}, {'source': {'id': 'cnn', 'name': 'CNN'}, 'author': 'Devan Cole, CNN', 'title': 'Rand Paul defends decision to not self-quarantine while awaiting coronavirus test results - CNN', 'description': 'Republican Sen. Rand Paul of Kentucky on Monday defended his decision to not self-quarantine while he awaited the results of his coronavirus test, a move that has been met with criticism and concern after he announced a day earlier that he had tested positive…', 'url': 'https://www.cnn.com/2020/03/23/politics/rand-paul-defends-himself-coronavirus-test-quarantine/index.html', 'urlToImage': 'https://cdn.cnn.com/cnnnext/dam/assets/200322135143-02-rand-paul-file-super-tease.jpg', 'publishedAt': '2020-03-23T20:09:00Z', 'content': 'Washington (CNN)Republican Sen. Rand Paul of Kentucky on Monday defended his decision to not self-quarantine while he awaited the results of his coronavirus test, a move that has been met with criticism and concern after he announced a day earlier that he had… [+3184 chars]'}, {'source': {'id': None, 'name': 'Espn.com'}, 'author': 'Mike Reiss', 'title': 'Sources: Patriots release kicker Stephen Gostkowski after 14 seasons - ESPN', 'description': 'The New England Patriots have released longtime kicker Stephen Gostkowski, sources confirmed to ESPN.', 'url': 'https://www.espn.com/nfl/story/_/id/28943576/patriots-release-kicker-stephen-gostkowski-14-seasons', 'urlToImage': 'https://a2.espncdn.com/combiner/i?img=%2Fphoto%2F2018%2F1115%2Fr464147_1296x729_16%2D9.jpg', 'publishedAt': '2020-03-23T19:48:47Z', 'content': 'FOXBOROUGH, Mass. -- The New England Patriots on Monday informed longtime kicker Stephen Gostkowski of their intention to release him, a source confirmed to ESPN.\\r\\nIt is a move that helps the salary-cap-strapped team create more space, but leaves a notable vo… [+1653 chars]'}, {'source': {'id': None, 'name': 'Marketwatch.com'}, 'author': 'Andrea Riquier', 'title': 'The Fed is going to buy ETFs. What does it mean? - MarketWatch', 'description': 'The central bank is acting as a buyer of last resort and propping up the bond market in the most efficient manner possible.', 'url': 'http://www.marketwatch.com/story/the-fed-is-going-to-buy-etfs-what-does-it-mean-2020-03-23', 'urlToImage': 'https://s.marketwatch.com/public/resources/images/MW-GJ762_fed_fa_ZG_20180523143636.jpg', 'publishedAt': '2020-03-23T19:39:49Z', 'content': 'The Federal Reserve on Monday announced a fresh round of stimulus designed to calm markets and buffer the hit to the economy from the coronavirus pandemic. Among other steps, the Fed said it would buy exchange-traded funds that track the corporate bond market… [+4609 chars]'}, {'source': {'id': 'the-hill', 'name': 'The Hill'}, 'author': 'Justine Coleman', 'title': 'New coronavirus cases drop in Italy for second day | TheHill - The Hill', 'description': 'Italy recorded a lower day-to-day increase of coronavirus cases f...', 'url': 'https://thehill.com/policy/healthcare/public-global-health/489062-new-coronavirus-cases-drop-in-italy-for-second-day', 'urlToImage': 'https://thehill.com/sites/default/files/coronavirus_italy_getty02292020.jpg', 'publishedAt': '2020-03-23T19:29:03Z', 'content': 'Italy recorded a lower day-to-day increase of coronavirus cases for the second day in a row Monday, officials said.\\r\\nItalys Civil Protection agency documented 4,789 new cases Monday, 700 less than the 5,560 new cases reported Sunday, The Associated Press repo… [+1091 chars]'}, {'source': {'id': None, 'name': 'Live5news.com'}, 'author': 'Ray Rivera', 'title': 'State health officials report two more coronavirus related deaths in SC - Live 5 News WCSC', 'description': 'State health officials have reported two more coronavirus related deaths in South Carolina.', 'url': 'https://www.live5news.com/2020/03/23/state-health-officials-report-two-more-additional-coronavirus-related-deaths-sc/', 'urlToImage': 'https://www.live5news.com/resizer/kAHS117BNMilywPIA-e8uuMApPw=/1200x0/arc-anglerfish-arc2-prod-raycom.s3.amazonaws.com/public/LAKUS6C4Z5GWPHX774YJW6KP4Q.jpg', 'publishedAt': '2020-03-23T19:27:00Z', 'content': 'CHARLESTON, S.C. (WCSC) - State health officials have reported two more coronavirus related deaths in South Carolina.\\r\\nOne patient was an elderly person from Clarendon County, who had underlying health conditions.\\r\\nThe second patient was an elderly person fro… [+1858 chars]'}, {'source': {'id': None, 'name': 'Cbssports.com'}, 'author': '', 'title': 'Panthers trade Kyle Allen to Redskins for draft pick after adding XFL star, per report - CBS Sports', 'description': 'Allen reunites with Ron Rivera in Washington', 'url': 'https://www.cbssports.com/nfl/news/panthers-trade-kyle-allen-to-redskins-for-draft-pick-after-adding-xfl-star-per-report/', 'urlToImage': 'https://sportshub.cbsistatic.com/i/r/2019/11/24/d10bc002-31d3-40a8-9b22-14906fee4644/thumbnail/1200x675/3645bfc461370809770f47861c5bd86c/usatsi-13706620-kyle-allen-panthers-qb-pregame-2019-1400.jpg', 'publishedAt': '2020-03-23T19:21:39Z', 'content': \"Kyle Allen, who started 12 games under center for the Panthers last season, has been traded to theRedskins in exchange for a fifth-round pick, according NFL Network's Ian Rapoport. The news comes shortly after the Panthers signed former XFL standout P.J. Walk… [+1308 chars]\"}, {'source': {'id': None, 'name': 'Theguardian.com'}, 'author': 'Nicola Davis', 'title': 'Fossil hunters find evidence of 555m-year-old human relative - The Guardian', 'description': 'Ikaria wariootia is half the size of a grain of rice and an early example of a bilateral organism', 'url': 'https://www.theguardian.com/science/2020/mar/23/fossil-ikaria-wariootia-bilateral-organism-human-relative', 'urlToImage': 'https://i.guim.co.uk/img/media/3fafeb3138fffbd0bcf08ab86346ce68999c529e/0_305_1299_779/master/1299.jpg?width=1200&height=630&quality=85&auto=format&fit=crop&overlay-align=bottom%2Cleft&overlay-width=100p&overlay-base64=L2ltZy9zdGF0aWMvb3ZlcmxheXMvdGctZGVmYXVsdC5wbmc&enable=upscale&s=8b5e1cb0a3293931e789dd1cf0291ef0', 'publishedAt': '2020-03-23T19:00:27Z', 'content': 'It might not show much of a family resemblance but fossil hunters say a newly discovered creature, that looks like a teardrop-shaped jellybean and is about half the size of a grain of rice, is an early relative of humans and a vast array of other animals.\\r\\nTh… [+3525 chars]'}]}\n"
          ],
          "name": "stdout"
        }
      ]
    },
    {
      "cell_type": "code",
      "metadata": {
        "id": "235IW3348M6m",
        "colab_type": "code",
        "colab": {}
      },
      "source": [
        "url = ('http://newsapi.org/v2/top-headlines?'\n",
        "      'q=%Markets&'\n",
        "      'apiKey=7417491a101e4ec3a8219b263f028ff7')\n",
        "response = requests.get(url)  \n",
        "json_data = json.loads(response.text)['articles'] "
      ],
      "execution_count": 0,
      "outputs": []
    },
    {
      "cell_type": "code",
      "metadata": {
        "id": "-4O9eFvi8Wro",
        "colab_type": "code",
        "colab": {
          "base_uri": "https://localhost:8080/",
          "height": 34
        },
        "outputId": "7c798a9a-1569-4557-a57c-61f78fdbd371"
      },
      "source": [
        "len(json_data)"
      ],
      "execution_count": 15,
      "outputs": [
        {
          "output_type": "execute_result",
          "data": {
            "text/plain": [
              "0"
            ]
          },
          "metadata": {
            "tags": []
          },
          "execution_count": 15
        }
      ]
    },
    {
      "cell_type": "code",
      "metadata": {
        "id": "GOvKLM7m8v9C",
        "colab_type": "code",
        "colab": {}
      },
      "source": [
        "import datetime\n",
        "def get_access_time(json_data):\n",
        "  for news in json_data:\n",
        "    news['Access_Time'] = datetime.datetime.now()\n",
        "  return json_data"
      ],
      "execution_count": 0,
      "outputs": []
    },
    {
      "cell_type": "code",
      "metadata": {
        "id": "VTF6Wx53LFMd",
        "colab_type": "code",
        "colab": {}
      },
      "source": [
        "from pandas.io.json import json_normalize\n",
        "def getNewsKeyword(keyword):\n",
        "  url = ('http://newsapi.org/v2/top-headlines?'\n",
        "       'q=%s&'\n",
        "       'apiKey=7417491a101e4ec3a8219b263f028ff7'%keyword)\n",
        "  \n",
        "  response = requests.get(url)  \n",
        "  json_data = json.loads(response.text)['articles']  \n",
        "  res = get_access_time(json_data)\n",
        "  data = json_normalize(res, max_level=2)\n",
        "  return data"
      ],
      "execution_count": 0,
      "outputs": []
    },
    {
      "cell_type": "code",
      "metadata": {
        "id": "86c_-lQMLIIq",
        "colab_type": "code",
        "colab": {}
      },
      "source": [
        "data = getNewsKeyword('Trump')\n"
      ],
      "execution_count": 0,
      "outputs": []
    },
    {
      "cell_type": "code",
      "metadata": {
        "id": "BXy_1m-wPni0",
        "colab_type": "code",
        "outputId": "51633b6a-d9c0-4dbb-8f5f-998cedff3bf3",
        "colab": {
          "base_uri": "https://localhost:8080/",
          "height": 564
        }
      },
      "source": [
        "data.head()"
      ],
      "execution_count": 22,
      "outputs": [
        {
          "output_type": "execute_result",
          "data": {
            "text/html": [
              "<div>\n",
              "<style scoped>\n",
              "    .dataframe tbody tr th:only-of-type {\n",
              "        vertical-align: middle;\n",
              "    }\n",
              "\n",
              "    .dataframe tbody tr th {\n",
              "        vertical-align: top;\n",
              "    }\n",
              "\n",
              "    .dataframe thead th {\n",
              "        text-align: right;\n",
              "    }\n",
              "</style>\n",
              "<table border=\"1\" class=\"dataframe\">\n",
              "  <thead>\n",
              "    <tr style=\"text-align: right;\">\n",
              "      <th></th>\n",
              "      <th>author</th>\n",
              "      <th>title</th>\n",
              "      <th>description</th>\n",
              "      <th>url</th>\n",
              "      <th>urlToImage</th>\n",
              "      <th>publishedAt</th>\n",
              "      <th>content</th>\n",
              "      <th>Access_Time</th>\n",
              "      <th>source.id</th>\n",
              "      <th>source.name</th>\n",
              "    </tr>\n",
              "  </thead>\n",
              "  <tbody>\n",
              "    <tr>\n",
              "      <th>0</th>\n",
              "      <td>Trevor Hunnicutt</td>\n",
              "      <td>Biden battles for attention as coronavirus thr...</td>\n",
              "      <td>Joe Biden's presidential campaign installed a ...</td>\n",
              "      <td>http://feeds.reuters.com/~r/reuters/topNews/~3...</td>\n",
              "      <td>https://s2.reutersmedia.net/resources/r/?m=02&amp;...</td>\n",
              "      <td>2020-03-24T00:12:46Z</td>\n",
              "      <td>(Reuters) - Joe Biden’s presidential campaign ...</td>\n",
              "      <td>2020-03-24 00:37:54.970912</td>\n",
              "      <td>reuters</td>\n",
              "      <td>Reuters</td>\n",
              "    </tr>\n",
              "    <tr>\n",
              "      <th>1</th>\n",
              "      <td>Fox News</td>\n",
              "      <td>Trump tells Senate to stop playing 'partisan p...</td>\n",
              "      <td>President Trump demanded on Monday that the Se...</td>\n",
              "      <td>https://www.foxnews.com/politics/trump-tells-s...</td>\n",
              "      <td>https://cf-images.us-east-1.prod.boltdns.net/v...</td>\n",
              "      <td>2020-03-24T00:09:23.2314917Z</td>\n",
              "      <td>Get all the latest news on coronavirus and mor...</td>\n",
              "      <td>2020-03-24 00:37:54.970926</td>\n",
              "      <td>fox-news</td>\n",
              "      <td>Fox News</td>\n",
              "    </tr>\n",
              "    <tr>\n",
              "      <th>2</th>\n",
              "      <td>Rebecca Kheel</td>\n",
              "      <td>Trump administration slashes Afghan aid after ...</td>\n",
              "      <td>The Trump administration is cutting $1 billion...</td>\n",
              "      <td>http://thehill.com/policy/defense/489140-trump...</td>\n",
              "      <td>https://thehill.com/sites/default/files/pompeo...</td>\n",
              "      <td>2020-03-23T23:58:31Z</td>\n",
              "      <td>The Trump administration is cutting $1 billion...</td>\n",
              "      <td>2020-03-24 00:37:54.970927</td>\n",
              "      <td>the-hill</td>\n",
              "      <td>The Hill</td>\n",
              "    </tr>\n",
              "    <tr>\n",
              "      <th>3</th>\n",
              "      <td>Fox News</td>\n",
              "      <td>Fox News hosting virtual coronavirus town hall...</td>\n",
              "      <td>Fox News Channel is hosting a special two-hour...</td>\n",
              "      <td>https://www.foxnews.com/media/fox-news-coronav...</td>\n",
              "      <td>https://static.foxnews.com/foxnews.com/content...</td>\n",
              "      <td>2020-03-23T23:53:04.1286036Z</td>\n",
              "      <td>Fox News Channel is hosting a two-hour virtual...</td>\n",
              "      <td>2020-03-24 00:37:54.970928</td>\n",
              "      <td>fox-news</td>\n",
              "      <td>Fox News</td>\n",
              "    </tr>\n",
              "    <tr>\n",
              "      <th>4</th>\n",
              "      <td>Steve Holland</td>\n",
              "      <td>Trump suggests he may scale back closures soon...</td>\n",
              "      <td>President Donald Trump said on Monday he is co...</td>\n",
              "      <td>http://feeds.reuters.com/~r/reuters/topNews/~3...</td>\n",
              "      <td>https://s3.reutersmedia.net/resources/r/?m=02&amp;...</td>\n",
              "      <td>2020-03-23T23:52:23Z</td>\n",
              "      <td>WASHINGTON (Reuters) - President Donald Trump ...</td>\n",
              "      <td>2020-03-24 00:37:54.970929</td>\n",
              "      <td>reuters</td>\n",
              "      <td>Reuters</td>\n",
              "    </tr>\n",
              "  </tbody>\n",
              "</table>\n",
              "</div>"
            ],
            "text/plain": [
              "             author  ... source.name\n",
              "0  Trevor Hunnicutt  ...     Reuters\n",
              "1          Fox News  ...    Fox News\n",
              "2     Rebecca Kheel  ...    The Hill\n",
              "3          Fox News  ...    Fox News\n",
              "4     Steve Holland  ...     Reuters\n",
              "\n",
              "[5 rows x 10 columns]"
            ]
          },
          "metadata": {
            "tags": []
          },
          "execution_count": 22
        }
      ]
    },
    {
      "cell_type": "code",
      "metadata": {
        "id": "SDCil2lIPDi8",
        "colab_type": "code",
        "colab": {}
      },
      "source": [
        "import datetime\n",
        "def dfClean(data):\n",
        "  df = data[['source.name','title', 'publishedAt']]\n",
        "  #clean datetime\n",
        "  df['publishedAt'] = df['publishedAt'].str.slice(0, 16)\n",
        "  df['publishedAt'] = df['publishedAt'].apply(lambda x: datetime.datetime.strptime(x,'%Y-%m-%dT%H:%M'))\n",
        "  #remove duplicates\n",
        "  df = df.drop_duplicates(subset='title')\n",
        "  return df"
      ],
      "execution_count": 0,
      "outputs": []
    },
    {
      "cell_type": "code",
      "metadata": {
        "id": "IeRenbEIJXrx",
        "colab_type": "code",
        "outputId": "2a2fff34-70f3-40be-eae2-81344239e93d",
        "colab": {
          "base_uri": "https://localhost:8080/",
          "height": 241
        }
      },
      "source": [
        "res = dfClean(data)"
      ],
      "execution_count": 0,
      "outputs": [
        {
          "output_type": "stream",
          "text": [
            "/usr/local/lib/python3.6/dist-packages/ipykernel_launcher.py:5: SettingWithCopyWarning: \n",
            "A value is trying to be set on a copy of a slice from a DataFrame.\n",
            "Try using .loc[row_indexer,col_indexer] = value instead\n",
            "\n",
            "See the caveats in the documentation: http://pandas.pydata.org/pandas-docs/stable/user_guide/indexing.html#returning-a-view-versus-a-copy\n",
            "  \"\"\"\n",
            "/usr/local/lib/python3.6/dist-packages/ipykernel_launcher.py:6: SettingWithCopyWarning: \n",
            "A value is trying to be set on a copy of a slice from a DataFrame.\n",
            "Try using .loc[row_indexer,col_indexer] = value instead\n",
            "\n",
            "See the caveats in the documentation: http://pandas.pydata.org/pandas-docs/stable/user_guide/indexing.html#returning-a-view-versus-a-copy\n",
            "  \n"
          ],
          "name": "stderr"
        }
      ]
    },
    {
      "cell_type": "code",
      "metadata": {
        "id": "uO-xM2kseLWC",
        "colab_type": "code",
        "outputId": "94802663-4726-4a0b-e768-7cf05d0da113",
        "colab": {
          "base_uri": "https://localhost:8080/",
          "height": 204
        }
      },
      "source": [
        "res = res.sort_values(by='publishedAt', ascending=False)\n",
        "res.head()"
      ],
      "execution_count": 0,
      "outputs": [
        {
          "output_type": "execute_result",
          "data": {
            "text/html": [
              "<div>\n",
              "<style scoped>\n",
              "    .dataframe tbody tr th:only-of-type {\n",
              "        vertical-align: middle;\n",
              "    }\n",
              "\n",
              "    .dataframe tbody tr th {\n",
              "        vertical-align: top;\n",
              "    }\n",
              "\n",
              "    .dataframe thead th {\n",
              "        text-align: right;\n",
              "    }\n",
              "</style>\n",
              "<table border=\"1\" class=\"dataframe\">\n",
              "  <thead>\n",
              "    <tr style=\"text-align: right;\">\n",
              "      <th></th>\n",
              "      <th>source.name</th>\n",
              "      <th>title</th>\n",
              "      <th>publishedAt</th>\n",
              "    </tr>\n",
              "  </thead>\n",
              "  <tbody>\n",
              "    <tr>\n",
              "      <th>0</th>\n",
              "      <td>Fox News</td>\n",
              "      <td>Fauci cites Trump travel restrictions as possi...</td>\n",
              "      <td>2020-03-22 19:52:00</td>\n",
              "    </tr>\n",
              "    <tr>\n",
              "      <th>1</th>\n",
              "      <td>Google News</td>\n",
              "      <td>Cuomo pleads for Trump to nationalize coronavi...</td>\n",
              "      <td>2020-03-22 19:23:00</td>\n",
              "    </tr>\n",
              "    <tr>\n",
              "      <th>2</th>\n",
              "      <td>Fox News</td>\n",
              "      <td>Trump rips 3 big papers over virus</td>\n",
              "      <td>2020-03-22 18:07:00</td>\n",
              "    </tr>\n",
              "    <tr>\n",
              "      <th>3</th>\n",
              "      <td>Fox News</td>\n",
              "      <td>Trump’s coronavirus response gets mixed review...</td>\n",
              "      <td>2020-03-22 18:07:00</td>\n",
              "    </tr>\n",
              "    <tr>\n",
              "      <th>4</th>\n",
              "      <td>Vice News</td>\n",
              "      <td>New York State Governor Andrew Cuomo Is Urging...</td>\n",
              "      <td>2020-03-22 17:55:00</td>\n",
              "    </tr>\n",
              "  </tbody>\n",
              "</table>\n",
              "</div>"
            ],
            "text/plain": [
              "   source.name  ...         publishedAt\n",
              "0     Fox News  ... 2020-03-22 19:52:00\n",
              "1  Google News  ... 2020-03-22 19:23:00\n",
              "2     Fox News  ... 2020-03-22 18:07:00\n",
              "3     Fox News  ... 2020-03-22 18:07:00\n",
              "4    Vice News  ... 2020-03-22 17:55:00\n",
              "\n",
              "[5 rows x 3 columns]"
            ]
          },
          "metadata": {
            "tags": []
          },
          "execution_count": 67
        }
      ]
    },
    {
      "cell_type": "code",
      "metadata": {
        "id": "Bcl7WQGlVdTb",
        "colab_type": "code",
        "colab": {}
      },
      "source": [
        "res = res.rename(columns={'source.name':'News_Source', 'title':'Title', 'publishedAt':'Pubulished_At'})"
      ],
      "execution_count": 0,
      "outputs": []
    },
    {
      "cell_type": "code",
      "metadata": {
        "id": "4beVsTGJVgSl",
        "colab_type": "code",
        "outputId": "e0a4946e-2d7b-4971-ed60-840c3092a954",
        "colab": {
          "base_uri": "https://localhost:8080/",
          "height": 204
        }
      },
      "source": [
        "res.head()"
      ],
      "execution_count": 0,
      "outputs": [
        {
          "output_type": "execute_result",
          "data": {
            "text/html": [
              "<div>\n",
              "<style scoped>\n",
              "    .dataframe tbody tr th:only-of-type {\n",
              "        vertical-align: middle;\n",
              "    }\n",
              "\n",
              "    .dataframe tbody tr th {\n",
              "        vertical-align: top;\n",
              "    }\n",
              "\n",
              "    .dataframe thead th {\n",
              "        text-align: right;\n",
              "    }\n",
              "</style>\n",
              "<table border=\"1\" class=\"dataframe\">\n",
              "  <thead>\n",
              "    <tr style=\"text-align: right;\">\n",
              "      <th></th>\n",
              "      <th>News_Source</th>\n",
              "      <th>Title</th>\n",
              "      <th>Pubulished_At</th>\n",
              "    </tr>\n",
              "  </thead>\n",
              "  <tbody>\n",
              "    <tr>\n",
              "      <th>0</th>\n",
              "      <td>Google News</td>\n",
              "      <td>'I'm gonna go to work': How Andrew Cuomo and h...</td>\n",
              "      <td>2020-03-22 12:42:00</td>\n",
              "    </tr>\n",
              "    <tr>\n",
              "      <th>2</th>\n",
              "      <td>Newsweek</td>\n",
              "      <td>Biden Campaign Accuses Trump Of Trying to 'Rew...</td>\n",
              "      <td>2020-03-22 12:04:00</td>\n",
              "    </tr>\n",
              "    <tr>\n",
              "      <th>3</th>\n",
              "      <td>The Hill</td>\n",
              "      <td>Trump gets polling boost, but will it last? | ...</td>\n",
              "      <td>2020-03-22 12:01:00</td>\n",
              "    </tr>\n",
              "    <tr>\n",
              "      <th>4</th>\n",
              "      <td>Associated Press</td>\n",
              "      <td>Trump's fate tied to an unknown: how fast econ...</td>\n",
              "      <td>2020-03-22 11:57:00</td>\n",
              "    </tr>\n",
              "    <tr>\n",
              "      <th>5</th>\n",
              "      <td>Google News</td>\n",
              "      <td>Maryland Gov. Larry Hogan emerges as a leader ...</td>\n",
              "      <td>2020-03-22 11:24:00</td>\n",
              "    </tr>\n",
              "  </tbody>\n",
              "</table>\n",
              "</div>"
            ],
            "text/plain": [
              "        News_Source  ...       Pubulished_At\n",
              "0       Google News  ... 2020-03-22 12:42:00\n",
              "2          Newsweek  ... 2020-03-22 12:04:00\n",
              "3          The Hill  ... 2020-03-22 12:01:00\n",
              "4  Associated Press  ... 2020-03-22 11:57:00\n",
              "5       Google News  ... 2020-03-22 11:24:00\n",
              "\n",
              "[5 rows x 3 columns]"
            ]
          },
          "metadata": {
            "tags": []
          },
          "execution_count": 57
        }
      ]
    },
    {
      "cell_type": "code",
      "metadata": {
        "id": "fhlmmk4Gvxti",
        "colab_type": "code",
        "colab": {}
      },
      "source": [
        "MXYlyh@429\n",
        "MXYlyh@429\n",
        "\n",
        "def getNews(source):\n",
        "  url = ('http://newsapi.org/v2/top-headlines?'\n",
        "       'q=%s&'\n",
        "       'apiKey=7417491a101e4ec3a8219b263f028ff7'%source)\n",
        "  \n",
        "  response = requests.get(url)  \n",
        "  json_data = json.loads(response.text)['articl=es']  \n",
        "  data = json_normalize(json_data, max_level=2)\n",
        "  return data\n",
        "\n",
        "\n",
        "def topNews(sources):\n",
        "  frames = [ getNews(s) for s in sources ]\n",
        "  df = pd.concat(frames, axis=0, ignore_index=True)\n",
        "  return df"
      ],
      "execution_count": 0,
      "outputs": []
    },
    {
      "cell_type": "code",
      "metadata": {
        "id": "ByVaxtavvzhF",
        "colab_type": "code",
        "colab": {}
      },
      "source": [
        "sources = ['Reuters', 'cnbc', 'Bloomberg', 'TechCrunch', 'the-wall-street-journal', 'cnn', 'bbc-news', 'techradar']\n",
        "\n",
        "data = topNews(sources)"
      ],
      "execution_count": 0,
      "outputs": []
    },
    {
      "cell_type": "code",
      "metadata": {
        "id": "u3t0qGfsR6DR",
        "colab_type": "code",
        "outputId": "8925d991-808d-48e6-ea8a-2919bfe93d2c",
        "colab": {
          "base_uri": "https://localhost:8080/",
          "height": 581
        }
      },
      "source": [
        "data.head()"
      ],
      "execution_count": 0,
      "outputs": [
        {
          "output_type": "execute_result",
          "data": {
            "text/html": [
              "<div>\n",
              "<style scoped>\n",
              "    .dataframe tbody tr th:only-of-type {\n",
              "        vertical-align: middle;\n",
              "    }\n",
              "\n",
              "    .dataframe tbody tr th {\n",
              "        vertical-align: top;\n",
              "    }\n",
              "\n",
              "    .dataframe thead th {\n",
              "        text-align: right;\n",
              "    }\n",
              "</style>\n",
              "<table border=\"1\" class=\"dataframe\">\n",
              "  <thead>\n",
              "    <tr style=\"text-align: right;\">\n",
              "      <th></th>\n",
              "      <th>author</th>\n",
              "      <th>title</th>\n",
              "      <th>description</th>\n",
              "      <th>url</th>\n",
              "      <th>urlToImage</th>\n",
              "      <th>publishedAt</th>\n",
              "      <th>content</th>\n",
              "      <th>source.id</th>\n",
              "      <th>source.name</th>\n",
              "    </tr>\n",
              "  </thead>\n",
              "  <tbody>\n",
              "    <tr>\n",
              "      <th>0</th>\n",
              "      <td>Steve Gorman</td>\n",
              "      <td>Coronavirus stay-at-home directives multiply i...</td>\n",
              "      <td>New Jersey's governor was expected on Saturday...</td>\n",
              "      <td>http://feeds.reuters.com/~r/reuters/topNews/~3...</td>\n",
              "      <td>https://s1.reutersmedia.net/resources/r/?m=02&amp;...</td>\n",
              "      <td>2020-03-21T10:44:56Z</td>\n",
              "      <td>(Reuters) - New Jersey’s governor was expected...</td>\n",
              "      <td>reuters</td>\n",
              "      <td>Reuters</td>\n",
              "    </tr>\n",
              "    <tr>\n",
              "      <th>1</th>\n",
              "      <td>Sarah N. Lynch</td>\n",
              "      <td>Social work from a social distance: Coronaviru...</td>\n",
              "      <td>Social distancing during the coronavirus pande...</td>\n",
              "      <td>http://feeds.reuters.com/~r/reuters/topNews/~3...</td>\n",
              "      <td>https://s1.reutersmedia.net/resources/r/?m=02&amp;...</td>\n",
              "      <td>2020-03-21T10:18:35Z</td>\n",
              "      <td>WASHINGTON (Reuters) - Social distancing durin...</td>\n",
              "      <td>reuters</td>\n",
              "      <td>Reuters</td>\n",
              "    </tr>\n",
              "    <tr>\n",
              "      <th>2</th>\n",
              "      <td>Reuters Editorial</td>\n",
              "      <td>Factbox: Coronavirus deaths pass 5,400 worldwide</td>\n",
              "      <td>Some 145,594 people have been infected by the ...</td>\n",
              "      <td>http://feeds.reuters.com/~r/reuters/topNews/~3...</td>\n",
              "      <td>https://s2.reutersmedia.net/resources/r/?m=02&amp;...</td>\n",
              "      <td>2020-03-21T09:54:33Z</td>\n",
              "      <td>(Reuters) - Some 145,594 people have been infe...</td>\n",
              "      <td>reuters</td>\n",
              "      <td>Reuters</td>\n",
              "    </tr>\n",
              "    <tr>\n",
              "      <th>3</th>\n",
              "      <td>Reuters Editorial</td>\n",
              "      <td>Country singer Kenny Rogers dies aged 81</td>\n",
              "      <td>Grammy-winning country singer Kenny Rogers die...</td>\n",
              "      <td>http://feeds.reuters.com/~r/reuters/topNews/~3...</td>\n",
              "      <td>https://s2.reutersmedia.net/resources/r/?m=02&amp;...</td>\n",
              "      <td>2020-03-21T07:28:31Z</td>\n",
              "      <td>(Reuters) - Grammy-winning country singer Kenn...</td>\n",
              "      <td>reuters</td>\n",
              "      <td>Reuters</td>\n",
              "    </tr>\n",
              "    <tr>\n",
              "      <th>4</th>\n",
              "      <td>Reuters Editorial</td>\n",
              "      <td>Starbucks closes most U.S., Canada cafes, move...</td>\n",
              "      <td>Starbucks Corp said on Friday it will close mo...</td>\n",
              "      <td>http://feeds.reuters.com/~r/reuters/topNews/~3...</td>\n",
              "      <td>https://s4.reutersmedia.net/resources/r/?m=02&amp;...</td>\n",
              "      <td>2020-03-21T06:18:07Z</td>\n",
              "      <td>(Reuters) - Starbucks Corp (SBUX.O) said on Fr...</td>\n",
              "      <td>reuters</td>\n",
              "      <td>Reuters</td>\n",
              "    </tr>\n",
              "  </tbody>\n",
              "</table>\n",
              "</div>"
            ],
            "text/plain": [
              "              author  ... source.name\n",
              "0       Steve Gorman  ...     Reuters\n",
              "1     Sarah N. Lynch  ...     Reuters\n",
              "2  Reuters Editorial  ...     Reuters\n",
              "3  Reuters Editorial  ...     Reuters\n",
              "4  Reuters Editorial  ...     Reuters\n",
              "\n",
              "[5 rows x 9 columns]"
            ]
          },
          "metadata": {
            "tags": []
          },
          "execution_count": 16
        }
      ]
    },
    {
      "cell_type": "code",
      "metadata": {
        "id": "QusCIOYm0bTa",
        "colab_type": "code",
        "outputId": "6d76183d-af5c-4439-896b-455d55706693",
        "colab": {
          "base_uri": "https://localhost:8080/",
          "height": 173
        }
      },
      "source": [
        "url = ('http://newsapi.org/v2/top-headlines?'\n",
        "      'sources=TechCrunch&'\n",
        "      'apiKey=7417491a101e4ec3a8219b263f028ff7')\n",
        "response = requests.get(url)  \n",
        "\n",
        "json_data = json.loads(response.text)['articles']  \n",
        "json_data[1]\n"
      ],
      "execution_count": 0,
      "outputs": [
        {
          "output_type": "execute_result",
          "data": {
            "text/plain": [
              "{'author': 'Kirsten Korosec',\n",
              " 'content': 'GM said Friday that it is working with Ventec Life Systems to help increase production of respiratory care products such as ventilators that are needed by a growing number of hospitals as the COVID-19 pandemics spreads throughout the U.S.\\r\\nThe partnership is … [+1687 chars]',\n",
              " 'description': 'GM said Friday that it is working with Ventec Life Systems to help increase production of respiratory care products such as ventilators that are needed by a growing number of hospitals as the COVID-19 pandemics spreads throughout the U.S. The partnership is p…',\n",
              " 'publishedAt': '2020-03-21T01:18:04Z',\n",
              " 'source': {'id': 'techcrunch', 'name': 'TechCrunch'},\n",
              " 'title': 'GM and Ventec Life Systems partner to ramp up production of ventilators',\n",
              " 'url': 'https://techcrunch.com/2020/03/20/gm-and-ventec-life-systems-partner-to-ramp-up-production-of-ventilators/',\n",
              " 'urlToImage': 'https://techcrunch.com/wp-content/uploads/2017/01/gettyimages-629982546.jpg?w=601'}"
            ]
          },
          "metadata": {
            "tags": []
          },
          "execution_count": 11
        }
      ]
    },
    {
      "cell_type": "code",
      "metadata": {
        "id": "9_pYoAttZRBr",
        "colab_type": "code",
        "outputId": "ed516bd5-5f9f-41c8-9b05-f37008330938",
        "colab": {
          "base_uri": "https://localhost:8080/",
          "height": 150
        }
      },
      "source": [
        "url = ('https://www.treasury.gov/resource-center/data-chart-center/interest-rates/pages/TextView.aspx?'\n",
        "       'data=longtermrateYear&year=2020')\n",
        "response = requests.get(url)  \n",
        "\n",
        "json_data = json.loads(response.text)\n",
        "json_data[1]\n",
        "\n",
        "https://www.treasury.gov/resource-center/data-chart-center/interest-rates/pages/TextView.aspx?data=longtermrateYear&year=2020"
      ],
      "execution_count": 0,
      "outputs": [
        {
          "output_type": "error",
          "ename": "SyntaxError",
          "evalue": "ignored",
          "traceback": [
            "\u001b[0;36m  File \u001b[0;32m\"<ipython-input-37-e1c71cb21728>\"\u001b[0;36m, line \u001b[0;32m8\u001b[0m\n\u001b[0;31m    https://www.treasury.gov/resource-center/data-chart-center/interest-rates/pages/TextView.aspx?data=longtermrateYear&year=2020\u001b[0m\n\u001b[0m           ^\u001b[0m\n\u001b[0;31mSyntaxError\u001b[0m\u001b[0;31m:\u001b[0m invalid syntax\n"
          ]
        }
      ]
    },
    {
      "cell_type": "code",
      "metadata": {
        "id": "BBjPahk75wJK",
        "colab_type": "code",
        "colab": {}
      },
      "source": [
        "content1 = json_data[1]['content']"
      ],
      "execution_count": 0,
      "outputs": []
    },
    {
      "cell_type": "code",
      "metadata": {
        "id": "V6HiS6pAiSrb",
        "colab_type": "code",
        "outputId": "6f4c34ff-ce3c-4116-811f-e7e07b0aa09b",
        "colab": {
          "base_uri": "https://localhost:8080/",
          "height": 232
        }
      },
      "source": [
        "import urllib.request\n",
        "\n",
        "url = json_data['articles'][5]['url']\n",
        "\n",
        "data1 = urllib.request.urlopen(url).read()\n",
        "data1 = data1.decode('UTF-8')\n",
        "start1 = data1.find(r'<div class=\"article-content\">')\n",
        "end1 = data1.find(r'<footer class=\"article-footer\">')\n",
        "\n",
        "\n",
        "content1 = data1[start1:end1]\n",
        "\n",
        "print(content1)"
      ],
      "execution_count": 0,
      "outputs": [
        {
          "output_type": "error",
          "ename": "TypeError",
          "evalue": "ignored",
          "traceback": [
            "\u001b[0;31m---------------------------------------------------------------------------\u001b[0m",
            "\u001b[0;31mTypeError\u001b[0m                                 Traceback (most recent call last)",
            "\u001b[0;32m<ipython-input-18-4303275e7fba>\u001b[0m in \u001b[0;36m<module>\u001b[0;34m()\u001b[0m\n\u001b[1;32m      1\u001b[0m \u001b[0;32mimport\u001b[0m \u001b[0murllib\u001b[0m\u001b[0;34m.\u001b[0m\u001b[0mrequest\u001b[0m\u001b[0;34m\u001b[0m\u001b[0;34m\u001b[0m\u001b[0m\n\u001b[1;32m      2\u001b[0m \u001b[0;34m\u001b[0m\u001b[0m\n\u001b[0;32m----> 3\u001b[0;31m \u001b[0murl\u001b[0m \u001b[0;34m=\u001b[0m \u001b[0mjson_data\u001b[0m\u001b[0;34m[\u001b[0m\u001b[0;34m'articles'\u001b[0m\u001b[0;34m]\u001b[0m\u001b[0;34m[\u001b[0m\u001b[0;36m5\u001b[0m\u001b[0;34m]\u001b[0m\u001b[0;34m[\u001b[0m\u001b[0;34m'url'\u001b[0m\u001b[0;34m]\u001b[0m\u001b[0;34m\u001b[0m\u001b[0;34m\u001b[0m\u001b[0m\n\u001b[0m\u001b[1;32m      4\u001b[0m \u001b[0;34m\u001b[0m\u001b[0m\n\u001b[1;32m      5\u001b[0m \u001b[0mdata1\u001b[0m \u001b[0;34m=\u001b[0m \u001b[0murllib\u001b[0m\u001b[0;34m.\u001b[0m\u001b[0mrequest\u001b[0m\u001b[0;34m.\u001b[0m\u001b[0murlopen\u001b[0m\u001b[0;34m(\u001b[0m\u001b[0murl\u001b[0m\u001b[0;34m)\u001b[0m\u001b[0;34m.\u001b[0m\u001b[0mread\u001b[0m\u001b[0;34m(\u001b[0m\u001b[0;34m)\u001b[0m\u001b[0;34m\u001b[0m\u001b[0;34m\u001b[0m\u001b[0m\n",
            "\u001b[0;31mTypeError\u001b[0m: list indices must be integers or slices, not str"
          ]
        }
      ]
    },
    {
      "cell_type": "code",
      "metadata": {
        "id": "kMgVWwt5q9S6",
        "colab_type": "code",
        "colab": {}
      },
      "source": [
        "for line in open(path, encoding='UTF-8'): \n",
        "    data_list = json.loads(line)                 # 读取每一行，将每一行读取成为json文件\n",
        "    data_df = pd.DataFrame(data_list, index=[0]) # 将每一行转成data frame的形式\n",
        "    df_empty = df_empty.append(data_df)  \n",
        "\n",
        "def flatten_json(df,column_name):\n",
        "    basic = []\n",
        "    for i in df[column_name]:\n",
        "        basic.append(json.loads(i))\n",
        "    flatten_columns = pd.DataFrame(basic)\n",
        "    df = pd.concat([df,flatten_columns],axis=1)\n",
        "    df = df.drop([column_name],axis=1)\n",
        "    return df"
      ],
      "execution_count": 0,
      "outputs": []
    },
    {
      "cell_type": "code",
      "metadata": {
        "id": "Z6VGVIwsy6kv",
        "colab_type": "code",
        "colab": {}
      },
      "source": [
        "#json/dict > list > dict\n",
        "response.json()['articles'][1].keys()\n",
        "\n",
        "def getNews(response):\n",
        "  df = pd.DataFrame()\n",
        "\n",
        "  return df"
      ],
      "execution_count": 0,
      "outputs": []
    },
    {
      "cell_type": "code",
      "metadata": {
        "id": "yQpCXVEutGlz",
        "colab_type": "code",
        "colab": {}
      },
      "source": [
        "def getFinanceHistoricalStockFromByma(tickerList): \n",
        "     dataFrameHistorical = pd.DataFrame()  \n",
        "     for item in tickerList:\n",
        "         url = 'https://www.byma.com.ar/wp-admin/admin-ajax.php?action=get_historico_simbolo&simbolo=' + item + '&fecha=01-02-2018'\n",
        "         response = requests.get(url)\n",
        "         if response.content : print 'ok info Historical Stock'\n",
        "         data = response.json()                \n",
        "         dfItem = jsonToDataFrame(data)                \n",
        "         dataFrameHistorical = dataFrameHistorical.append(dfItem, ignore_index=True)    \n",
        "    return dataFrameHistorical\n",
        "\n",
        "def jsonToDataFrame(jsonStr):    \n",
        "     return json_normalize(jsonStr) "
      ],
      "execution_count": 0,
      "outputs": []
    },
    {
      "cell_type": "code",
      "metadata": {
        "id": "4xiNH5uetGr1",
        "colab_type": "code",
        "colab": {}
      },
      "source": [
        "data = json.loads(url.read().decode())\n",
        "df = pd.DataFrame(data)"
      ],
      "execution_count": 0,
      "outputs": []
    },
    {
      "cell_type": "markdown",
      "metadata": {
        "id": "-O4jSbxy2BZl",
        "colab_type": "text"
      },
      "source": [
        "## Dataframe schema: date, title, content, key words joining"
      ]
    },
    {
      "cell_type": "code",
      "metadata": {
        "id": "epLcJ1MltHKz",
        "colab_type": "code",
        "colab": {}
      },
      "source": [
        "\n",
        "url = 'http://newsapi.org/v2/top-headlines?q=trump&apiKey=7417491a101e4ec3a8219b263f028ff7'\n",
        "resp = requests.get(url)\n"
      ],
      "execution_count": 0,
      "outputs": []
    },
    {
      "cell_type": "markdown",
      "metadata": {
        "id": "K9cSKnPzQ_c8",
        "colab_type": "text"
      },
      "source": [
        "## Keywords"
      ]
    },
    {
      "cell_type": "code",
      "metadata": {
        "id": "uXHRHwbA_gzA",
        "colab_type": "code",
        "outputId": "786769a3-0c35-435d-ee81-8edbfa868c5d",
        "colab": {
          "base_uri": "https://localhost:8080/",
          "height": 224
        }
      },
      "source": [
        "pip install rake-nltk"
      ],
      "execution_count": 0,
      "outputs": [
        {
          "output_type": "stream",
          "text": [
            "Collecting rake-nltk\n",
            "  Downloading https://files.pythonhosted.org/packages/8e/c4/b4ff57e541ac5624ad4b20b89c2bafd4e98f29fd83139f3a81858bdb3815/rake_nltk-1.0.4.tar.gz\n",
            "Requirement already satisfied: nltk in /usr/local/lib/python3.6/dist-packages (from rake-nltk) (3.2.5)\n",
            "Requirement already satisfied: six in /usr/local/lib/python3.6/dist-packages (from nltk->rake-nltk) (1.12.0)\n",
            "Building wheels for collected packages: rake-nltk\n",
            "  Building wheel for rake-nltk (setup.py) ... \u001b[?25l\u001b[?25hdone\n",
            "  Created wheel for rake-nltk: filename=rake_nltk-1.0.4-py2.py3-none-any.whl size=7819 sha256=d51512c4dbb24e79dd8cf33537e5799305d66050d6aed414c081c32c3cfbcaa1\n",
            "  Stored in directory: /root/.cache/pip/wheels/ef/92/fc/271b3709e71a96ffe934b27818946b795ac6b9b8ff8682483f\n",
            "Successfully built rake-nltk\n",
            "Installing collected packages: rake-nltk\n",
            "Successfully installed rake-nltk-1.0.4\n"
          ],
          "name": "stdout"
        }
      ]
    },
    {
      "cell_type": "code",
      "metadata": {
        "id": "vrEzb3h5C62F",
        "colab_type": "code",
        "colab": {}
      },
      "source": [
        "pd.set_option('display.max_colwidth', -1)"
      ],
      "execution_count": 0,
      "outputs": []
    },
    {
      "cell_type": "code",
      "metadata": {
        "id": "KPPi9k5Q6FXY",
        "colab_type": "code",
        "outputId": "60e68151-ba06-48b3-c100-183cb05c0fe3",
        "colab": {
          "base_uri": "https://localhost:8080/",
          "height": 54
        }
      },
      "source": [
        "content1"
      ],
      "execution_count": 0,
      "outputs": [
        {
          "output_type": "execute_result",
          "data": {
            "text/plain": [
              "'GM said Friday that it is working with Ventec Life Systems to help increase production of respiratory care products such as ventilators that are needed by a growing number of hospitals as the COVID-19 pandemics spreads throughout the U.S.\\r\\nThe partnership is … [+1687 chars]'"
            ]
          },
          "metadata": {
            "tags": []
          },
          "execution_count": 25
        }
      ]
    },
    {
      "cell_type": "code",
      "metadata": {
        "id": "RBTAzCBrMoG3",
        "colab_type": "code",
        "outputId": "aa1bdf5b-507a-4198-a1fc-a1834a4a60eb",
        "colab": {
          "base_uri": "https://localhost:8080/",
          "height": 150
        }
      },
      "source": [
        "content2="
      ],
      "execution_count": 0,
      "outputs": [
        {
          "output_type": "error",
          "ename": "SyntaxError",
          "evalue": "ignored",
          "traceback": [
            "\u001b[0;36m  File \u001b[0;32m\"<ipython-input-35-a515fdd364d3>\"\u001b[0;36m, line \u001b[0;32m1\u001b[0m\n\u001b[0;31m    content2='The White House has announced a flurry of actions it says are responding to the coronavirus pandemic, but a closer look reveals that some aren't what they seem or remain to be executed.'\u001b[0m\n\u001b[0m                                                                                                                                                             ^\u001b[0m\n\u001b[0;31mSyntaxError\u001b[0m\u001b[0;31m:\u001b[0m invalid syntax\n"
          ]
        }
      ]
    },
    {
      "cell_type": "code",
      "metadata": {
        "id": "Uq2vsRR0Pjgr",
        "colab_type": "code",
        "outputId": "7e2f24af-3280-4b00-d290-5a1afb9a1b16",
        "colab": {
          "base_uri": "https://localhost:8080/",
          "height": 221
        }
      },
      "source": [
        "from rake_nltk import Rake\n",
        "\n",
        "r = Rake() # Uses stopwords for english from NLTK, and all puntuation characters.\n",
        "\n",
        "r.extract_keywords_from_text('The White House has announced a flurry of a§ctions it says are responding to the coronavirus pandemic, but a closer look reveals that some arent what they seem or remain to be executed.')\n",
        "\n",
        "r.get_ranked_phrases() # To get keyword phrases ranked highest to lowest."
      ],
      "execution_count": 0,
      "outputs": [
        {
          "output_type": "execute_result",
          "data": {
            "text/plain": [
              "['closer look reveals',\n",
              " 'white house',\n",
              " 'coronavirus pandemic',\n",
              " 'seem',\n",
              " 'says',\n",
              " 'responding',\n",
              " 'remain',\n",
              " 'flurry',\n",
              " 'executed',\n",
              " 'arent',\n",
              " 'announced',\n",
              " 'actions']"
            ]
          },
          "metadata": {
            "tags": []
          },
          "execution_count": 36
        }
      ]
    },
    {
      "cell_type": "code",
      "metadata": {
        "id": "5igP06njeEfI",
        "colab_type": "code",
        "colab": {}
      },
      "source": [
        "import requests\n",
        "from xml.etree import ElementTree\n",
        "url = ('http://data.treasury.gov/feed.svc/DailyTreasuryYieldCurveRateData?$filter=year(NEW_DATE)%20eq%202019')\n",
        "response = requests.get(url)\n",
        "root = ElementTree.fromstring(response.content)\n",
        "\n",
        "# def getYieldCurve():\n",
        "#     url = ('http://data.treasury.gov/feed.svc/DailyTreasuryYieldCurveRateData?$filter=year(NEW_DATE)%20eq%202019')\n",
        "#     response = requests.get(url)\n",
        "#     tree = ElementTree.fromstring(response.content)\n",
        "\n",
        "#     pass"
      ],
      "execution_count": 0,
      "outputs": []
    },
    {
      "cell_type": "code",
      "metadata": {
        "id": "9CpRy3Vv6zHX",
        "colab_type": "code",
        "outputId": "c25a30ac-3b54-4347-8006-bc684be8025c",
        "colab": {
          "base_uri": "https://localhost:8080/",
          "height": 232
        }
      },
      "source": [
        "for node in root: \n",
        "    res = []\n",
        "    res.append(node.attrib.get(df_cols[0]))\n",
        "    for el in df_cols[1:]: \n",
        "        if node is not None and node.find(el) is not None:\n",
        "            res.append(node.find(el).text)\n",
        "        else: \n",
        "            res.append(None)\n",
        "    rows.append({df_cols[i]: res[i] \n",
        "                  for i, _ in enumerate(df_cols)})\n",
        "\n",
        "out_df = pd.DataFrame(rows, columns=df_cols)\n",
        "    \n",
        "return out_df"
      ],
      "execution_count": 0,
      "outputs": [
        {
          "output_type": "error",
          "ename": "NameError",
          "evalue": "ignored",
          "traceback": [
            "\u001b[0;31m---------------------------------------------------------------------------\u001b[0m",
            "\u001b[0;31mNameError\u001b[0m                                 Traceback (most recent call last)",
            "\u001b[0;32m<ipython-input-16-4d1cd26c9c2f>\u001b[0m in \u001b[0;36m<module>\u001b[0;34m()\u001b[0m\n\u001b[1;32m      1\u001b[0m \u001b[0;32mfor\u001b[0m \u001b[0mnode\u001b[0m \u001b[0;32min\u001b[0m \u001b[0mroot\u001b[0m\u001b[0;34m:\u001b[0m\u001b[0;34m\u001b[0m\u001b[0;34m\u001b[0m\u001b[0m\n\u001b[1;32m      2\u001b[0m     \u001b[0mres\u001b[0m \u001b[0;34m=\u001b[0m \u001b[0;34m[\u001b[0m\u001b[0;34m]\u001b[0m\u001b[0;34m\u001b[0m\u001b[0;34m\u001b[0m\u001b[0m\n\u001b[0;32m----> 3\u001b[0;31m     \u001b[0mres\u001b[0m\u001b[0;34m.\u001b[0m\u001b[0mappend\u001b[0m\u001b[0;34m(\u001b[0m\u001b[0mnode\u001b[0m\u001b[0;34m.\u001b[0m\u001b[0mattrib\u001b[0m\u001b[0;34m.\u001b[0m\u001b[0mget\u001b[0m\u001b[0;34m(\u001b[0m\u001b[0mdf_cols\u001b[0m\u001b[0;34m[\u001b[0m\u001b[0;36m0\u001b[0m\u001b[0;34m]\u001b[0m\u001b[0;34m)\u001b[0m\u001b[0;34m)\u001b[0m\u001b[0;34m\u001b[0m\u001b[0;34m\u001b[0m\u001b[0m\n\u001b[0m\u001b[1;32m      4\u001b[0m     \u001b[0;32mfor\u001b[0m \u001b[0mel\u001b[0m \u001b[0;32min\u001b[0m \u001b[0mdf_cols\u001b[0m\u001b[0;34m[\u001b[0m\u001b[0;36m1\u001b[0m\u001b[0;34m:\u001b[0m\u001b[0;34m]\u001b[0m\u001b[0;34m:\u001b[0m\u001b[0;34m\u001b[0m\u001b[0;34m\u001b[0m\u001b[0m\n\u001b[1;32m      5\u001b[0m         \u001b[0;32mif\u001b[0m \u001b[0mnode\u001b[0m \u001b[0;32mis\u001b[0m \u001b[0;32mnot\u001b[0m \u001b[0;32mNone\u001b[0m \u001b[0;32mand\u001b[0m \u001b[0mnode\u001b[0m\u001b[0;34m.\u001b[0m\u001b[0mfind\u001b[0m\u001b[0;34m(\u001b[0m\u001b[0mel\u001b[0m\u001b[0;34m)\u001b[0m \u001b[0;32mis\u001b[0m \u001b[0;32mnot\u001b[0m \u001b[0;32mNone\u001b[0m\u001b[0;34m:\u001b[0m\u001b[0;34m\u001b[0m\u001b[0;34m\u001b[0m\u001b[0m\n",
            "\u001b[0;31mNameError\u001b[0m: name 'df_cols' is not defined"
          ]
        }
      ]
    },
    {
      "cell_type": "code",
      "metadata": {
        "id": "uIwP2Bh463ZP",
        "colab_type": "code",
        "colab": {}
      },
      "source": [
        "from xml.etree import ElementTree as ET\n",
        "\n",
        "# #Load xml file data\n",
        "# tree = ET.parse(path_to_xml_file)\n",
        "# root = tree.getroot()\n",
        "\n",
        "#Grab list of column names\n",
        "aviationdata_column_names = root.attrib.keys()             \n",
        "#Create empty dataframe   \n",
        "aviationdata_df = pd.DataFrame(columns=aviationdata_column_names)\n",
        "\n",
        "#Loop through tree and append to dataframe\n",
        "for i in range(0,len(root[0])-1):\n",
        "    new_row = pd.Series(root[0][i].attrib)\n",
        "    new_row.name = i\n",
        "    aviationdata_df = aviationdata_df.append(new_row)"
      ],
      "execution_count": 0,
      "outputs": []
    },
    {
      "cell_type": "code",
      "metadata": {
        "id": "LVDsas-z4NkR",
        "colab_type": "code",
        "outputId": "4cb4e393-c5c0-4bff-e5fe-dd6663bb4958",
        "colab": {
          "base_uri": "https://localhost:8080/",
          "height": 49
        }
      },
      "source": [
        "aviationdata_df.head()"
      ],
      "execution_count": 0,
      "outputs": [
        {
          "output_type": "execute_result",
          "data": {
            "text/html": [
              "<div>\n",
              "<style scoped>\n",
              "    .dataframe tbody tr th:only-of-type {\n",
              "        vertical-align: middle;\n",
              "    }\n",
              "\n",
              "    .dataframe tbody tr th {\n",
              "        vertical-align: top;\n",
              "    }\n",
              "\n",
              "    .dataframe thead th {\n",
              "        text-align: right;\n",
              "    }\n",
              "</style>\n",
              "<table border=\"1\" class=\"dataframe\">\n",
              "  <thead>\n",
              "    <tr style=\"text-align: right;\">\n",
              "      <th></th>\n",
              "      <th>{http://www.w3.org/XML/1998/namespace}base</th>\n",
              "    </tr>\n",
              "  </thead>\n",
              "  <tbody>\n",
              "  </tbody>\n",
              "</table>\n",
              "</div>"
            ],
            "text/plain": [
              "Empty DataFrame\n",
              "Columns: [{http://www.w3.org/XML/1998/namespace}base]\n",
              "Index: []"
            ]
          },
          "metadata": {
            "tags": []
          },
          "execution_count": 55
        }
      ]
    },
    {
      "cell_type": "code",
      "metadata": {
        "id": "K2qwQVVBDw7D",
        "colab_type": "code",
        "colab": {}
      },
      "source": [
        "data = []\n",
        "for el in root.iterfind('./*'):\n",
        "    for i in el.iterfind('*'):\n",
        "      data.append(dict(i.items()))\n",
        "\n",
        "df = pd.DataFrame(data)"
      ],
      "execution_count": 0,
      "outputs": []
    },
    {
      "cell_type": "code",
      "metadata": {
        "id": "iuSoMSd80zrW",
        "colab_type": "code",
        "colab": {}
      },
      "source": [
        ""
      ],
      "execution_count": 0,
      "outputs": []
    }
  ]
}